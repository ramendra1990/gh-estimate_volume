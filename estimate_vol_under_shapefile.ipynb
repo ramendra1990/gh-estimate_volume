{
 "cells": [
  {
   "cell_type": "markdown",
   "id": "3f092aac-618b-4dee-b225-1da714b27c8e",
   "metadata": {},
   "source": [
    "# Estimate surface volume under a shape layer\n",
    "<font color='blue'>The following code calculates volume of a DEM under a specified elevation. The DEM is extracted from a larger DEM by clipping with a shapefile. Specific python libraries used to carryout the analysis are *<font color='red'>numpy</font> (for numerical calculation)*, *<font color='red'>matplotlib</font> (for visualization)*, *<font color='red'>rioxarray</font> (for raster analysis)*, *<font color='red'>geopandas</font> (for handling of shapefiles)* and *<font color='red'>pandas</font> (to save a result if required)*.</font>"
   ]
  },
  {
   "cell_type": "code",
   "execution_count": null,
   "id": "b9426cd3-3605-4aeb-a749-ce6789dcfa5a",
   "metadata": {},
   "outputs": [],
   "source": [
    "# Import libraries\n",
    "import numpy as np\n",
    "import matplotlib.pyplot as plt\n",
    "import geopandas as gpd\n",
    "import pandas as pd\n",
    "import rioxarray as rxr"
   ]
  },
  {
   "cell_type": "code",
   "execution_count": null,
   "id": "9fffc45e-9392-4cf8-bdaa-78bdec9728e2",
   "metadata": {},
   "outputs": [],
   "source": [
    "# Define a couple of utility function\n",
    "def base_height_est(elevation_data, method = 1):\n",
    "    \"\"\"\n",
    "    Returns the base height as well as the data array\n",
    "    \n",
    "    method 1 calulates the median value of all the boundary pixels and set that \n",
    "    as the base height under which the volume is calculated\n",
    "    \n",
    "    method 2 assigns the 95th pernetile height value as he base height and also changes \n",
    "    the original data set by removing the outlier pixels (having extreme high and \n",
    "                                                          low elevation values)\n",
    "\n",
    "    method 3 directly assigns the median value of the raw elevation data as the base_height\n",
    "\n",
    "    method 4 assigns the maximum value of the raw elevation data as the base height\n",
    "\n",
    "    ** method 3 and 4 only should be used in case of good quality elevation data \n",
    "    \"\"\"\n",
    "    from skimage.segmentation import find_boundaries\n",
    "    import numpy as np\n",
    "    \n",
    "    data = elevation_data\n",
    "    \n",
    "    if method == 1:\n",
    "        \n",
    "        data_copy = data.copy()\n",
    "        data_copy[np.isnan(data)] = 0\n",
    "        data_copy[~np.isnan(data)] = 1\n",
    "\n",
    "        boundary = find_boundaries(data_copy, connectivity=1, mode='inner', background=0)\n",
    "        bound_pixels = data * boundary\n",
    "        bound_pixels[bound_pixels == 0] = np.nan\n",
    "        base_height = np.nanpercentile(bound_pixels, 50)\n",
    "    \n",
    "    elif method == 2:\n",
    "        \n",
    "        data_c = data.copy()\n",
    "        data_c[(data < np.nanpercentile(data, 5)) | (data > np.nanpercentile(data, 95))] = np.nan\n",
    "        base_height = np.nanmax(data_c)\n",
    "        data = data_c\n",
    "\n",
    "    elif method == 3:\n",
    "        base_height = np.nanpercentile(data, 50)\n",
    "\n",
    "    elif method == 4:\n",
    "        base_height = np.nanmax(data)\n",
    "    \n",
    "    return base_height, data\n",
    "\n",
    "def plot_DEM_3D(rio_dem):\n",
    "    \"\"\"\n",
    "    plot data array extracted from a rioxarray dem (rio_dem) in 3D. Uses mpl_toolkits library to create 3D axes.\n",
    "    \"\"\"\n",
    "    # rio_dem is a rioxarray data set\n",
    "    from mpl_toolkits import mplot3d\n",
    "    import numpy as np\n",
    "    \n",
    "    data = rio_dem.data[0].astype('float')\n",
    "    data[(data < -9000) | (data > 9000)] = np.nan\n",
    "    \n",
    "    fig = plt.figure()\n",
    "    ax = plt.axes(projection='3d')\n",
    "    X, Y = np.meshgrid(rio_dem.x, rio_dem.y)\n",
    "    ax.plot_surface(X,Y,data, cmap='viridis', antialiased=False)"
   ]
  },
  {
   "cell_type": "code",
   "execution_count": null,
   "id": "a7da57c0-4f73-46a1-bc44-f10ab81609eb",
   "metadata": {},
   "outputs": [],
   "source": [
    "help(base_height_est)"
   ]
  },
  {
   "cell_type": "code",
   "execution_count": null,
   "id": "76f9cd8e-b32d-4c8b-ad19-0ab46bd04d32",
   "metadata": {},
   "outputs": [],
   "source": [
    "DEM_in = \"dem_bangalore_43N.tif\" # This tiff file is a local variable. It has to be uploaded in the local repository before running the code\n",
    "dem = rxr.open_rasterio(DEM_in)"
   ]
  },
  {
   "cell_type": "code",
   "execution_count": null,
   "id": "26007548-e3f3-4d44-8660-f9ae1721b788",
   "metadata": {},
   "outputs": [],
   "source": [
    "dem"
   ]
  },
  {
   "cell_type": "code",
   "execution_count": null,
   "id": "7a7676aa-fce4-42d5-ae6d-831ea7f17f20",
   "metadata": {},
   "outputs": [],
   "source": [
    "feat_in = \"polygon_43N.shp\" # This shapefile is a local variable. Along with the .shp file, all other files related to the specific shapefile has to be stored in the local repository\n",
    "gdf = gpd.read_file(feat_in)"
   ]
  },
  {
   "cell_type": "code",
   "execution_count": null,
   "id": "72abec22-b2c8-4ad4-9bbd-9bc06bd7b173",
   "metadata": {},
   "outputs": [],
   "source": [
    "gdf"
   ]
  },
  {
   "cell_type": "code",
   "execution_count": null,
   "id": "cceff359-1e14-4e06-84e4-267d73c0d429",
   "metadata": {},
   "outputs": [],
   "source": [
    "# Main line of codes. Check for the method argument used in the base_height_est function inside the for loop. Default is 1\n",
    "# We need a crs (coordinate refrence system) to be assigned to each feature layers\n",
    "crs_sub = \"epsg:\" + str(gdf.crs.to_epsg())\n",
    "# To save the output, i.e. 3D surface volume cooresponding to each of the feature layers, a dataframe is to be created\n",
    "df = pd.DataFrame(columns = [\"feat_ID\", \"volume (in cubic m)\"])\n",
    "\n",
    "for i in range(len(gdf)):\n",
    "    gdf_sub = gpd.GeoDataFrame(index = [i], \n",
    "                           crs = crs_sub, \n",
    "                           geometry = [gdf.iloc[i].geometry])\n",
    "    dem_clip = dem.rio.clip(gdf_sub.geometry)\n",
    "    # If we need to save the clipped file . To save the rioxrray file\n",
    "    # dem_clip.rio.to_raster(\"dem01_projected_clip01.tif\")\n",
    "    \n",
    "    # Calculation of the surface volume below certain height\n",
    "    data = dem_clip.data[0].astype('float')\n",
    "    data[(data < -9000) | (data > 9000)] = np.nan # -/+9000 m some random number. Mostly to filter out the void values\n",
    "    base_height, data = base_height_est(data, method = 1) # see the function \"base_height_est\"\n",
    "    pixel_area = dem_clip.rio.resolution()[0] ** 2\n",
    "    surface_volume = np.nansum((data < base_height) * (base_height - data) * pixel_area) # in cubic meter\n",
    "    # store the result\n",
    "    df.loc[i, \"feat_ID\"] = gdf.loc[i, \"id\"]\n",
    "    df.loc[i, \"volume (in cubic m)\"] = surface_volume\n",
    "    print(i)\n",
    "\n",
    "# If you want to see a clipped DEM in 3D\n",
    "# plot_DEM_3D(dem_clip)"
   ]
  },
  {
   "cell_type": "code",
   "execution_count": null,
   "id": "7082078e-7b88-44c8-a2af-b61a48a98cf0",
   "metadata": {},
   "outputs": [],
   "source": [
    "df"
   ]
  },
  {
   "cell_type": "code",
   "execution_count": null,
   "id": "10b80190-87bd-4d0d-90d4-557c3eb5b672",
   "metadata": {},
   "outputs": [],
   "source": [
    "# To save the dataframe with result as xlsx file\n",
    "df.to_csv(\"surface_volume.csv\", index = False) # The .csv file gets saved in a local repo inside \"mybinder\". That has to be downloaded in order to save"
   ]
  },
  {
   "cell_type": "code",
   "execution_count": 1,
   "id": "d32ed8e5-81f8-4e2d-9e44-d613c8e916ee",
   "metadata": {},
   "outputs": [
    {
     "name": "stdout",
     "output_type": "stream",
     "text": [
      "Python implementation: CPython\n",
      "Python version       : 3.12.3\n",
      "IPython version      : 8.24.0\n",
      "\n",
      "numpy       : 1.26.4\n",
      "matplotlib  : 3.8.4\n",
      "geopandas   : 0.14.4\n",
      "pandas      : 2.2.1\n",
      "rioxarray   : 0.15.5\n",
      "scikit-image: not installed\n",
      "watermark   : 2.4.3\n",
      "\n",
      "Compiler    : MSC v.1938 64 bit (AMD64)\n",
      "OS          : Windows\n",
      "Release     : 11\n",
      "Machine     : AMD64\n",
      "Processor   : Intel64 Family 6 Model 183 Stepping 1, GenuineIntel\n",
      "CPU cores   : 32\n",
      "Architecture: 64bit\n",
      "\n"
     ]
    }
   ],
   "source": [
    "%load_ext watermark\n",
    "\n",
    "%watermark -v -m -p numpy,matplotlib,geopandas,pandas,rioxarray,scikit-image,watermark"
   ]
  },
  {
   "cell_type": "code",
   "execution_count": null,
   "id": "1f969232-4a72-4087-b1f6-ec4791b05e37",
   "metadata": {},
   "outputs": [],
   "source": []
  }
 ],
 "metadata": {
  "kernelspec": {
   "display_name": "Python 3 (ipykernel)",
   "language": "python",
   "name": "python3"
  },
  "language_info": {
   "codemirror_mode": {
    "name": "ipython",
    "version": 3
   },
   "file_extension": ".py",
   "mimetype": "text/x-python",
   "name": "python",
   "nbconvert_exporter": "python",
   "pygments_lexer": "ipython3",
   "version": "3.12.3"
  }
 },
 "nbformat": 4,
 "nbformat_minor": 5
}
